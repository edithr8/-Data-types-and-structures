{
  "nbformat": 4,
  "nbformat_minor": 0,
  "metadata": {
    "colab": {
      "provenance": []
    },
    "kernelspec": {
      "name": "python3",
      "display_name": "Python 3"
    },
    "language_info": {
      "name": "python"
    }
  },
  "cells": [
    {
      "cell_type": "markdown",
      "source": [
        "#1\n",
        "What are data structures and why they are used?\n",
        "- Data structure is a way of organizing and storing data so that it can be accessed and manipulated efficiently.\n",
        "\n",
        "#2\n",
        "Explain the diff bw mutable and immutable data types with example?\n",
        "- mutables data type can be easily manipulated like list, dictionaries but immutable can not be manipulated like tuple, dictionaries.\n",
        "\n",
        "#3\n",
        "What are main diff bw list and tuples in python?\n",
        "- List is mutable and tuples are immutale.\n",
        "\n",
        "#4\n",
        "Describe how dictionariies store data.\n",
        "- Dictionaries are unique and immutable. Elements are not stored in specific order. Each key acts as uniue identifier for retrieving asccociated value. Key and values can be varies data type.\n",
        "\n",
        "#5\n",
        "Why might u used a set instead of a list in python?\n",
        "-A set can be used over list when we need to hold a unique elements where duplicates value are not allowed, when u want to combine a element or finding diff element or finding a common element.\n",
        "\n",
        "#6\n",
        "What is a string in python and how is it diff from the list?\n",
        "-strings are character arranged in an unchangeable order like writing a paragraph or a sentance. They are accessed by its index strings and can be joined together altered using a variety of techniques.\n",
        "\n",
        "-List is type of data structure in which data is stored orderly and can be accessed and maipulated later as it is mutable. It can hold various types of dat(strings,number and even other list).\n",
        "\n",
        "#7\n",
        "How do tuples store data integrity in python?\n",
        "- Tuples are immutable so it is used to stores data that did't want to be changed later and keep data safe.\n",
        "\n",
        "#8\n",
        "What is hashtable and how does it relate to dictionaries in python?\n",
        "-\n",
        "\n",
        "#9\n",
        "Can list contain diff data types in python?\n",
        "-Yes\n",
        "\n",
        "#10\n",
        "Expain why strings are immutable in python?\n",
        "- They are immutable as for the safety is they were not mutable than they would be not secured.\n",
        "- Strings are used in dictionary key if they were mutable tthen dict would have lost it value.\n",
        "- Effiency- python uses stings for data efficency.\n",
        "\n",
        "#11\n",
        "What advantages do dictionaries offer over lists for certain taks?\n",
        "- To hold the key and value.\n",
        "- Easy to process as its element can be accessd by key but in list if u dont remember the index it then u  have to iterate the element to check it.\n",
        "\n",
        "#12\n",
        "Describe a scenario where using a tuple would be preferable over list.\n",
        "-Tuple is immutable so it can be used to store important data that should't\n",
        "be changed, like adhaar data, emplyee id.\n",
        "\n",
        "#13\n",
        "How do set handles duplicate values in python?\n",
        "- set removes the duplicate value and print it.\n",
        "ex- a(1,2,3,4,4)\n",
        "a will be printed (1,2,3,4)\n",
        "\n",
        "#14\n",
        "How does the in keyword work diff for lists and dictionaries?\n",
        "- In keyword checks if the value is present in list but in dictionary\n",
        "it only checks the  keyword.\n",
        "\n",
        "#15\n",
        "Can u modify the value of tuple? expain why and why not?\n",
        "- No, it cannot be be modified as tuple is used to store value so that it can be stored safe.\n",
        "\n",
        "#16\n",
        "what is nested dictionary and give exapmle of its use case?\n",
        "-A nested dictionary in Python is a dictionary where at least one of its values is itself another dictionary. This allows to store a structure like data.\n",
        "\n",
        "#17\n",
        "Describe the time complexity of accessing elements in a dictionary?\n",
        "-accessing element is fast as the complexity is 0(1.it)it quickly access limits.\n",
        "\n",
        "#18\n",
        "In what situations are list prefferd over dictionaries?\n",
        "-List is preferred when a data is stored for ordered elements, need duplicate values and that can be change late on.\n",
        "for ex-[1,2,3,4,5,5]\n",
        "\n",
        "#19\n",
        "Why are dictionaries considered unordered and how does that effect data retrieval?\n",
        "- Dictionaries are unordered as they can't be accessed through index or position. They are accessed trhough keys.\n",
        "\n",
        "#20\n",
        "Explain the diff bw a list and dictionary in terms of data retrival?\n",
        "-list can be accessed by index and position. But dictionary is accessed by key\n",
        "lis:[1,2,3,4,5]\n",
        "lis[0]\n",
        "\n",
        "dict{\"name\":\"raj\", \"class\":\"5\"}\n",
        "dict[\"name\"]"
      ],
      "metadata": {
        "id": "qRu2m6uL_RUP"
      }
    },
    {
      "cell_type": "markdown",
      "source": [
        "#practical Questions"
      ],
      "metadata": {
        "id": "swIpwCpQM0Sg"
      }
    },
    {
      "cell_type": "code",
      "execution_count": null,
      "metadata": {
        "colab": {
          "base_uri": "https://localhost:8080/"
        },
        "id": "ytcMFe8-Hnlg",
        "outputId": "d95603aa-8858-4271-af09-e808b5fc2216"
      },
      "outputs": [
        {
          "output_type": "stream",
          "name": "stdout",
          "text": [
            "Rohan Choudhary\n"
          ]
        }
      ],
      "source": [
        "#01\n",
        "Name=\"Rohan Choudhary\"\n",
        "print(Name)"
      ]
    },
    {
      "cell_type": "code",
      "source": [
        "#02\n",
        "a=\"hello world\"\n",
        "len(a)"
      ],
      "metadata": {
        "colab": {
          "base_uri": "https://localhost:8080/"
        },
        "id": "nu24y6SMHwtC",
        "outputId": "71f33a38-2bfc-455c-8d1f-e58f42faa565"
      },
      "execution_count": null,
      "outputs": [
        {
          "output_type": "execute_result",
          "data": {
            "text/plain": [
              "11"
            ]
          },
          "metadata": {},
          "execution_count": 2
        }
      ]
    },
    {
      "cell_type": "code",
      "source": [
        "#03\n",
        "a = \"python programming\"\n",
        "a[0:4]\n"
      ],
      "metadata": {
        "colab": {
          "base_uri": "https://localhost:8080/",
          "height": 35
        },
        "id": "_8td3JJgH2Jl",
        "outputId": "ebc7bf7c-da83-4ef2-b553-c797ae74c0c0"
      },
      "execution_count": null,
      "outputs": [
        {
          "output_type": "execute_result",
          "data": {
            "text/plain": [
              "'pyth'"
            ],
            "application/vnd.google.colaboratory.intrinsic+json": {
              "type": "string"
            }
          },
          "metadata": {},
          "execution_count": 4
        }
      ]
    },
    {
      "cell_type": "code",
      "source": [
        "#04\n",
        "a=\"hello\"\n",
        "a.upper()"
      ],
      "metadata": {
        "colab": {
          "base_uri": "https://localhost:8080/",
          "height": 35
        },
        "id": "VuLYkZLrIRSo",
        "outputId": "27de203c-a4cd-476c-8114-663e45b2eace"
      },
      "execution_count": null,
      "outputs": [
        {
          "output_type": "execute_result",
          "data": {
            "text/plain": [
              "'HELLO'"
            ],
            "application/vnd.google.colaboratory.intrinsic+json": {
              "type": "string"
            }
          },
          "metadata": {},
          "execution_count": 5
        }
      ]
    },
    {
      "cell_type": "code",
      "source": [
        "\n",
        "#05\n",
        "a=\"i like apple\"\n",
        "a.replace(\"apple\",\"orange\")\n"
      ],
      "metadata": {
        "colab": {
          "base_uri": "https://localhost:8080/",
          "height": 35
        },
        "id": "Zr-idL-EIXXl",
        "outputId": "60700cd5-c9a0-47e4-dd64-a9e4eb4289b3"
      },
      "execution_count": null,
      "outputs": [
        {
          "output_type": "execute_result",
          "data": {
            "text/plain": [
              "'i like orange'"
            ],
            "application/vnd.google.colaboratory.intrinsic+json": {
              "type": "string"
            }
          },
          "metadata": {},
          "execution_count": 8
        }
      ]
    },
    {
      "cell_type": "code",
      "source": [
        "#06\n",
        "numbers=list(range(1,6))\n",
        "numbers"
      ],
      "metadata": {
        "colab": {
          "base_uri": "https://localhost:8080/"
        },
        "id": "ONjthhaDIsBw",
        "outputId": "8d4ea9b4-d193-45c4-d54d-b7f8fbfb5520"
      },
      "execution_count": null,
      "outputs": [
        {
          "output_type": "execute_result",
          "data": {
            "text/plain": [
              "[1, 2, 3, 4, 5]"
            ]
          },
          "metadata": {},
          "execution_count": 21
        }
      ]
    },
    {
      "cell_type": "code",
      "source": [
        "#07\n",
        "a=[1,2,3,4]\n",
        "a.append(10)\n",
        "print(a)\n"
      ],
      "metadata": {
        "colab": {
          "base_uri": "https://localhost:8080/"
        },
        "id": "hEmbfIAkJMoM",
        "outputId": "0a926109-13bc-4dd0-b4e4-1c4d1e6723c2"
      },
      "execution_count": null,
      "outputs": [
        {
          "output_type": "stream",
          "name": "stdout",
          "text": [
            "[1, 2, 3, 4, 10]\n"
          ]
        }
      ]
    },
    {
      "cell_type": "code",
      "source": [
        "#08\n",
        "a=[1,2,3,4,5]\n",
        "a.remove(3)\n",
        "a"
      ],
      "metadata": {
        "colab": {
          "base_uri": "https://localhost:8080/"
        },
        "id": "YteecNbhK_Mj",
        "outputId": "3f72ee19-8cbd-4cf2-9d4c-d4c2a642ea81"
      },
      "execution_count": null,
      "outputs": [
        {
          "output_type": "execute_result",
          "data": {
            "text/plain": [
              "[1, 2, 4, 5]"
            ]
          },
          "metadata": {},
          "execution_count": 28
        }
      ]
    },
    {
      "cell_type": "code",
      "source": [
        "#09\n",
        "lis=['a','b','c','d']\n",
        "lis[1]"
      ],
      "metadata": {
        "colab": {
          "base_uri": "https://localhost:8080/",
          "height": 35
        },
        "id": "vWKsSo6ZLUXq",
        "outputId": "e65d1c9f-c708-4c59-b46d-54bd6f41b731"
      },
      "execution_count": null,
      "outputs": [
        {
          "output_type": "execute_result",
          "data": {
            "text/plain": [
              "'b'"
            ],
            "application/vnd.google.colaboratory.intrinsic+json": {
              "type": "string"
            }
          },
          "metadata": {},
          "execution_count": 29
        }
      ]
    },
    {
      "cell_type": "code",
      "source": [
        "#10\n",
        "a=[10,20,30,40,50]\n",
        "a.reverse()\n",
        "a"
      ],
      "metadata": {
        "colab": {
          "base_uri": "https://localhost:8080/"
        },
        "id": "GpT1ALBxLptL",
        "outputId": "a7f76c71-3e5c-4e7b-8dba-087d6f236a13"
      },
      "execution_count": null,
      "outputs": [
        {
          "output_type": "execute_result",
          "data": {
            "text/plain": [
              "[50, 40, 30, 20, 10]"
            ]
          },
          "metadata": {},
          "execution_count": 40
        }
      ]
    },
    {
      "cell_type": "code",
      "source": [
        "#11\n",
        "a=(100,200,300)\n",
        "print(a)"
      ],
      "metadata": {
        "colab": {
          "base_uri": "https://localhost:8080/"
        },
        "id": "U2lExso7L1Db",
        "outputId": "05ffacd2-0a88-49b8-e7b3-afb86f174165"
      },
      "execution_count": null,
      "outputs": [
        {
          "output_type": "stream",
          "name": "stdout",
          "text": [
            "(100, 200, 300)\n"
          ]
        }
      ]
    },
    {
      "cell_type": "code",
      "source": [
        "#12\n",
        "tupl=(\"red\",\"green\",\"blue\",\"yellow\")\n",
        "tupl[-2]"
      ],
      "metadata": {
        "colab": {
          "base_uri": "https://localhost:8080/",
          "height": 35
        },
        "id": "iGe7dmHMNNe7",
        "outputId": "08e41cf2-4495-4055-e72b-ec9c23d9f2f9"
      },
      "execution_count": null,
      "outputs": [
        {
          "output_type": "execute_result",
          "data": {
            "text/plain": [
              "'blue'"
            ],
            "application/vnd.google.colaboratory.intrinsic+json": {
              "type": "string"
            }
          },
          "metadata": {},
          "execution_count": 47
        }
      ]
    },
    {
      "cell_type": "code",
      "source": [
        "#13\n",
        "a=(10,20,5,15)\n",
        "min(a)\n"
      ],
      "metadata": {
        "colab": {
          "base_uri": "https://localhost:8080/"
        },
        "id": "Hp_qSL5TNf6x",
        "outputId": "6a0f0b23-90c1-4d74-b43b-315de0bbe748"
      },
      "execution_count": null,
      "outputs": [
        {
          "output_type": "execute_result",
          "data": {
            "text/plain": [
              "5"
            ]
          },
          "metadata": {},
          "execution_count": 50
        }
      ]
    },
    {
      "cell_type": "code",
      "source": [
        "#14\n",
        "a=(\"dog\",\"cat\",\"rabbit\")\n",
        "a.index(\"cat\")"
      ],
      "metadata": {
        "colab": {
          "base_uri": "https://localhost:8080/"
        },
        "id": "3E4AwuIEN8-X",
        "outputId": "b77750e4-e40f-4302-ae49-656acb9e2b3a"
      },
      "execution_count": null,
      "outputs": [
        {
          "output_type": "execute_result",
          "data": {
            "text/plain": [
              "1"
            ]
          },
          "metadata": {},
          "execution_count": 52
        }
      ]
    },
    {
      "cell_type": "code",
      "source": [
        "#15\n",
        "a=(\"orange\"\"apple\",\"banana\")\n",
        "b=\"kiwi\"\n",
        "if b in a:\n",
        "  print(\"yes\")\n",
        "else:\n",
        "    print(\"no\")"
      ],
      "metadata": {
        "colab": {
          "base_uri": "https://localhost:8080/"
        },
        "id": "iZgP0kS9ONWC",
        "outputId": "03498f91-dbfd-426f-b2fd-65d4e8a7d2ae"
      },
      "execution_count": null,
      "outputs": [
        {
          "output_type": "stream",
          "name": "stdout",
          "text": [
            "no\n"
          ]
        }
      ]
    },
    {
      "cell_type": "code",
      "source": [
        "#16\n",
        "a={\"a\",\"b\",\"c\"}\n",
        "a"
      ],
      "metadata": {
        "colab": {
          "base_uri": "https://localhost:8080/"
        },
        "id": "22G32veJPV5I",
        "outputId": "5e951c5f-a3d3-421a-a855-52cd17ad007d"
      },
      "execution_count": null,
      "outputs": [
        {
          "output_type": "execute_result",
          "data": {
            "text/plain": [
              "{'a', 'b', 'c'}"
            ]
          },
          "metadata": {},
          "execution_count": 59
        }
      ]
    },
    {
      "cell_type": "code",
      "source": [
        "#17\n",
        "a={1,2,3,4,5}\n",
        "a.clear()\n",
        "a"
      ],
      "metadata": {
        "colab": {
          "base_uri": "https://localhost:8080/"
        },
        "id": "4liQH3CqPogC",
        "outputId": "14363602-92d7-4eb4-e234-553dbcddb56c"
      },
      "execution_count": null,
      "outputs": [
        {
          "output_type": "execute_result",
          "data": {
            "text/plain": [
              "set()"
            ]
          },
          "metadata": {},
          "execution_count": 61
        }
      ]
    },
    {
      "cell_type": "code",
      "source": [
        "#18\n",
        "s={1,2,3,4}\n",
        "s.remove(4)\n",
        "s"
      ],
      "metadata": {
        "colab": {
          "base_uri": "https://localhost:8080/"
        },
        "id": "FuoKJU4bP872",
        "outputId": "174a6e90-9b48-4c39-c4ef-5fb79dd1a93e"
      },
      "execution_count": null,
      "outputs": [
        {
          "output_type": "execute_result",
          "data": {
            "text/plain": [
              "{1, 2, 3}"
            ]
          },
          "metadata": {},
          "execution_count": 65
        }
      ]
    },
    {
      "cell_type": "code",
      "source": [
        "#19\n",
        "a={1,2,3}\n",
        "b={2,3,4}\n",
        "a|b"
      ],
      "metadata": {
        "colab": {
          "base_uri": "https://localhost:8080/"
        },
        "id": "dtoMYj36QKqn",
        "outputId": "d5f9ff41-b17e-4f09-c169-eccf296e8468"
      },
      "execution_count": null,
      "outputs": [
        {
          "output_type": "execute_result",
          "data": {
            "text/plain": [
              "{1, 2, 3, 4}"
            ]
          },
          "metadata": {},
          "execution_count": 66
        }
      ]
    },
    {
      "cell_type": "code",
      "source": [
        "#20\n",
        "a={\"name\":\"\",\"age\":\"\",\"city\":\"\"}\n",
        "print(a)"
      ],
      "metadata": {
        "colab": {
          "base_uri": "https://localhost:8080/"
        },
        "id": "a31UsYOCQqzo",
        "outputId": "1a930689-2058-480d-d131-c1c517027f36"
      },
      "execution_count": null,
      "outputs": [
        {
          "output_type": "stream",
          "name": "stdout",
          "text": [
            "{'name': '', 'age': '', 'city': ''}\n"
          ]
        }
      ]
    },
    {
      "cell_type": "code",
      "source": [
        "#21\n",
        "a={\"name\":\"alice\",\"age\":\"30\"}\n",
        "a[\"country\"]=\"USA\"\n",
        "a"
      ],
      "metadata": {
        "colab": {
          "base_uri": "https://localhost:8080/"
        },
        "id": "mL7A8sqURCO_",
        "outputId": "22aeba37-7ffb-4d94-e5c5-4eb174064d38"
      },
      "execution_count": null,
      "outputs": [
        {
          "output_type": "execute_result",
          "data": {
            "text/plain": [
              "{'name': 'alice', 'age': '30', 'country': 'USA'}"
            ]
          },
          "metadata": {},
          "execution_count": 74
        }
      ]
    },
    {
      "cell_type": "code",
      "source": [
        "#22\n",
        "a={\"name\":\"alice\",\"age\":\"30\"}\n",
        "a[\"name\"]"
      ],
      "metadata": {
        "colab": {
          "base_uri": "https://localhost:8080/",
          "height": 35
        },
        "id": "kO9GrWoBSEaC",
        "outputId": "a01ae21d-44b6-4090-d72d-394351aed975"
      },
      "execution_count": null,
      "outputs": [
        {
          "output_type": "execute_result",
          "data": {
            "text/plain": [
              "'alice'"
            ],
            "application/vnd.google.colaboratory.intrinsic+json": {
              "type": "string"
            }
          },
          "metadata": {},
          "execution_count": 79
        }
      ]
    },
    {
      "cell_type": "code",
      "source": [
        "#23\n",
        "a={\"name\":\"alice\",\"age\":\"30\",\"city\":\"newyork\"}\n",
        "del a[\"age\"]\n",
        "print(a)"
      ],
      "metadata": {
        "colab": {
          "base_uri": "https://localhost:8080/"
        },
        "id": "Wvl9Zy0tSwjE",
        "outputId": "a20adc89-49bf-455d-b3d0-88e256348d5d"
      },
      "execution_count": null,
      "outputs": [
        {
          "output_type": "stream",
          "name": "stdout",
          "text": [
            "{'name': 'alice', 'city': 'newyork'}\n"
          ]
        }
      ]
    },
    {
      "cell_type": "code",
      "source": [
        "#24\n",
        "a={\"name\":\"alice\",\"city\":\"paris\"}\n",
        "if \"city\" in a:\n",
        "  print(\"yes\")\n",
        "else:\n",
        "  print(\"no\")"
      ],
      "metadata": {
        "colab": {
          "base_uri": "https://localhost:8080/"
        },
        "id": "M6VcUxzeULYx",
        "outputId": "535f3350-f3e8-461c-9a05-9b0b37a87a49"
      },
      "execution_count": null,
      "outputs": [
        {
          "output_type": "stream",
          "name": "stdout",
          "text": [
            "yes\n"
          ]
        }
      ]
    },
    {
      "cell_type": "code",
      "source": [
        "#25\n",
        "a=[1,2,3,4,5]\n",
        "b=(\"a\",\"b\",\"c\")\n",
        "c={\"a\":\"b\",\"c\":\"d\"}\n",
        "print(a)\n",
        "print(b)\n",
        "print(c)"
      ],
      "metadata": {
        "colab": {
          "base_uri": "https://localhost:8080/"
        },
        "id": "9ta5chKbVNXx",
        "outputId": "263ab856-4add-4502-90e9-69034fdc8cda"
      },
      "execution_count": null,
      "outputs": [
        {
          "output_type": "stream",
          "name": "stdout",
          "text": [
            "[1, 2, 3, 4, 5]\n",
            "('a', 'b', 'c')\n",
            "{'a': 'b', 'c': 'd'}\n"
          ]
        }
      ]
    },
    {
      "cell_type": "code",
      "source": [
        "#26\n",
        "import random\n",
        "random_number=[random.randint(1,100) for i in range(5)]\n",
        "random_number.sort()\n",
        "print(random_number)\n"
      ],
      "metadata": {
        "colab": {
          "base_uri": "https://localhost:8080/"
        },
        "id": "rG9T2hgFVof4",
        "outputId": "d5f92461-4356-4be7-d305-0b0dc13f8028"
      },
      "execution_count": null,
      "outputs": [
        {
          "output_type": "stream",
          "name": "stdout",
          "text": [
            "[6, 34, 36, 57, 91]\n"
          ]
        }
      ]
    },
    {
      "cell_type": "code",
      "source": [
        "#27\n",
        "a=[\"apple\",\"banana\",\"cherry\",\"car\"]\n",
        "a[3]"
      ],
      "metadata": {
        "colab": {
          "base_uri": "https://localhost:8080/",
          "height": 35
        },
        "id": "2XGY345zW0bO",
        "outputId": "f14ea7d1-6ba5-4284-b68f-b31c535e7149"
      },
      "execution_count": null,
      "outputs": [
        {
          "output_type": "execute_result",
          "data": {
            "text/plain": [
              "'car'"
            ],
            "application/vnd.google.colaboratory.intrinsic+json": {
              "type": "string"
            }
          },
          "metadata": {},
          "execution_count": 113
        }
      ]
    },
    {
      "cell_type": "code",
      "source": [
        "#28\n",
        "a={\"name\":\"alice\",\"age\":\"30\"}\n",
        "b={\"name\":\"bob\",\"age\":\"25\"}\n",
        "a.update(b)\n",
        "print(a)"
      ],
      "metadata": {
        "colab": {
          "base_uri": "https://localhost:8080/"
        },
        "id": "Q8c9FmzuZRyO",
        "outputId": "9b18afe6-c19b-45e0-b877-a5ff59b21109"
      },
      "execution_count": null,
      "outputs": [
        {
          "output_type": "stream",
          "name": "stdout",
          "text": [
            "{'name': 'bob', 'age': '25'}\n"
          ]
        }
      ]
    },
    {
      "cell_type": "code",
      "source": [
        "#29\n",
        "dict1 = {\"name\":\"alice\",\"age\":\"30\"}\n",
        "dict2 = {\"school\":\"grga\",\"class\":\"10\"}\n",
        "dict3 = dict1.copy()\n",
        "dict3.update(dict2)\n",
        "print(dict3)"
      ],
      "metadata": {
        "colab": {
          "base_uri": "https://localhost:8080/"
        },
        "id": "55AY_R_ncqvx",
        "outputId": "e36c46a5-7f9c-4f60-c281-d314d74a6999"
      },
      "execution_count": null,
      "outputs": [
        {
          "output_type": "stream",
          "name": "stdout",
          "text": [
            "{'name': 'alice', 'age': '30', 'school': 'grga', 'class': '10'}\n"
          ]
        }
      ]
    },
    {
      "cell_type": "code",
      "source": [
        "#30\n",
        "lis=[\"a\",\"b\",\"c\",\"c\"]\n",
        "a=set(lis)\n",
        "a"
      ],
      "metadata": {
        "colab": {
          "base_uri": "https://localhost:8080/"
        },
        "id": "Evtjt29pI4FD",
        "outputId": "79a4b8ee-f38e-4be6-be7c-8c5d22631ff3"
      },
      "execution_count": null,
      "outputs": [
        {
          "output_type": "execute_result",
          "data": {
            "text/plain": [
              "{'a', 'b', 'c'}"
            ]
          },
          "metadata": {},
          "execution_count": 11
        }
      ]
    },
    {
      "cell_type": "code",
      "source": [],
      "metadata": {
        "id": "cJ7waurnLaVs"
      },
      "execution_count": null,
      "outputs": []
    }
  ]
}